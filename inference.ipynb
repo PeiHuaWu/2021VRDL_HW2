{
  "nbformat": 4,
  "nbformat_minor": 0,
  "metadata": {
    "accelerator": "GPU",
    "colab": {
      "name": "inference.ipynb",
      "provenance": [],
      "collapsed_sections": []
    },
    "kernelspec": {
      "display_name": "Python 3",
      "name": "python3"
    },
    "language_info": {
      "name": "python"
    }
  },
  "cells": [
    {
      "cell_type": "markdown",
      "metadata": {
        "id": "6nW4BN-FEHAn"
      },
      "source": [
        "# STEP 0: Use GPU"
      ]
    },
    {
      "cell_type": "code",
      "metadata": {
        "id": "u3rG-rjUEKyZ",
        "colab": {
          "base_uri": "https://localhost:8080/"
        },
        "outputId": "27c24fb9-35e1-43bd-e64e-61b07b5c3bc5"
      },
      "source": [
        "# Make sure you use the Colab GPU to run the testing phase\n",
        "\n",
        "import torch\n",
        "torch.cuda.is_available()"
      ],
      "execution_count": 1,
      "outputs": [
        {
          "output_type": "execute_result",
          "data": {
            "text/plain": [
              "True"
            ]
          },
          "metadata": {},
          "execution_count": 1
        }
      ]
    },
    {
      "cell_type": "code",
      "metadata": {
        "colab": {
          "base_uri": "https://localhost:8080/"
        },
        "id": "h84u9Y9zAv49",
        "outputId": "efcb83b4-51f6-43f7-954f-e541d628f7dd"
      },
      "source": [
        "# Show the GPU info\n",
        "\n",
        "!nvidia-smi"
      ],
      "execution_count": 2,
      "outputs": [
        {
          "output_type": "stream",
          "name": "stdout",
          "text": [
            "Thu Nov 25 06:39:34 2021       \n",
            "+-----------------------------------------------------------------------------+\n",
            "| NVIDIA-SMI 495.44       Driver Version: 460.32.03    CUDA Version: 11.2     |\n",
            "|-------------------------------+----------------------+----------------------+\n",
            "| GPU  Name        Persistence-M| Bus-Id        Disp.A | Volatile Uncorr. ECC |\n",
            "| Fan  Temp  Perf  Pwr:Usage/Cap|         Memory-Usage | GPU-Util  Compute M. |\n",
            "|                               |                      |               MIG M. |\n",
            "|===============================+======================+======================|\n",
            "|   0  Tesla K80           Off  | 00000000:00:04.0 Off |                    0 |\n",
            "| N/A   33C    P8    28W / 149W |      3MiB / 11441MiB |      0%      Default |\n",
            "|                               |                      |                  N/A |\n",
            "+-------------------------------+----------------------+----------------------+\n",
            "                                                                               \n",
            "+-----------------------------------------------------------------------------+\n",
            "| Processes:                                                                  |\n",
            "|  GPU   GI   CI        PID   Type   Process name                  GPU Memory |\n",
            "|        ID   ID                                                   Usage      |\n",
            "|=============================================================================|\n",
            "|  No running processes found                                                 |\n",
            "+-----------------------------------------------------------------------------+\n"
          ]
        }
      ]
    },
    {
      "cell_type": "markdown",
      "metadata": {
        "id": "o31NmbOe89Gc"
      },
      "source": [
        "# STEP 1: Git clone your project"
      ]
    },
    {
      "cell_type": "code",
      "metadata": {
        "id": "_hteyN2COWmz",
        "colab": {
          "base_uri": "https://localhost:8080/"
        },
        "outputId": "8bc0e890-b877-4c89-94ea-9e698f3e6d8e"
      },
      "source": [
        "# Git clone your project\n",
        "\n",
        "!git clone https://github.com/PeiHuaWu/2021VRDL_HW2.git"
      ],
      "execution_count": 3,
      "outputs": [
        {
          "output_type": "stream",
          "name": "stdout",
          "text": [
            "Cloning into '2021VRDL_HW2'...\n",
            "remote: Enumerating objects: 130, done.\u001b[K\n",
            "remote: Counting objects: 100% (130/130), done.\u001b[K\n",
            "remote: Compressing objects: 100% (121/121), done.\u001b[K\n",
            "remote: Total 130 (delta 45), reused 0 (delta 0), pack-reused 0\u001b[K\n",
            "Receiving objects: 100% (130/130), 243.89 KiB | 3.48 MiB/s, done.\n",
            "Resolving deltas: 100% (45/45), done.\n"
          ]
        }
      ]
    },
    {
      "cell_type": "markdown",
      "metadata": {
        "id": "zmYxECpc9YBU"
      },
      "source": [
        "# STEP 2: Install your requirements"
      ]
    },
    {
      "cell_type": "code",
      "metadata": {
        "id": "OaYZdp6wPq-I",
        "colab": {
          "base_uri": "https://localhost:8080/"
        },
        "outputId": "60e70eae-6bcd-4bf5-c060-fb9a6487e2df"
      },
      "source": [
        "# Install your requirments\n",
        "\n",
        "%cd /content/2021VRDL_HW2\n",
        "\n",
        "!pip install -r requirements.txt\n",
        "\n",
        "!pip install -U PyYAML\n",
        "\n",
        "!pip install git+https://github.com/JunnYu/mish-cuda.git\n",
        "\n",
        "!pip install googledrivedownloader\n",
        "\n"
      ],
      "execution_count": 4,
      "outputs": [
        {
          "output_type": "stream",
          "name": "stdout",
          "text": [
            "/content/2021VRDL_HW2\n",
            "Requirement already satisfied: numpy in /usr/local/lib/python3.7/dist-packages (from -r requirements.txt (line 1)) (1.19.5)\n",
            "Requirement already satisfied: opencv-python>=4.1 in /usr/local/lib/python3.7/dist-packages (from -r requirements.txt (line 2)) (4.1.2.30)\n",
            "Requirement already satisfied: torch in /usr/local/lib/python3.7/dist-packages (from -r requirements.txt (line 3)) (1.10.0+cu111)\n",
            "Requirement already satisfied: torchvision in /usr/local/lib/python3.7/dist-packages (from -r requirements.txt (line 4)) (0.11.1+cu111)\n",
            "Requirement already satisfied: matplotlib in /usr/local/lib/python3.7/dist-packages (from -r requirements.txt (line 5)) (3.2.2)\n",
            "Requirement already satisfied: pycocotools in /usr/local/lib/python3.7/dist-packages (from -r requirements.txt (line 6)) (2.0.2)\n",
            "Requirement already satisfied: tqdm in /usr/local/lib/python3.7/dist-packages (from -r requirements.txt (line 7)) (4.62.3)\n",
            "Requirement already satisfied: pillow in /usr/local/lib/python3.7/dist-packages (from -r requirements.txt (line 8)) (7.1.2)\n",
            "Requirement already satisfied: tensorboard>=1.14 in /usr/local/lib/python3.7/dist-packages (from -r requirements.txt (line 9)) (2.7.0)\n",
            "Requirement already satisfied: google-auth-oauthlib<0.5,>=0.4.1 in /usr/local/lib/python3.7/dist-packages (from tensorboard>=1.14->-r requirements.txt (line 9)) (0.4.6)\n",
            "Requirement already satisfied: setuptools>=41.0.0 in /usr/local/lib/python3.7/dist-packages (from tensorboard>=1.14->-r requirements.txt (line 9)) (57.4.0)\n",
            "Requirement already satisfied: tensorboard-plugin-wit>=1.6.0 in /usr/local/lib/python3.7/dist-packages (from tensorboard>=1.14->-r requirements.txt (line 9)) (1.8.0)\n",
            "Requirement already satisfied: wheel>=0.26 in /usr/local/lib/python3.7/dist-packages (from tensorboard>=1.14->-r requirements.txt (line 9)) (0.37.0)\n",
            "Requirement already satisfied: google-auth<3,>=1.6.3 in /usr/local/lib/python3.7/dist-packages (from tensorboard>=1.14->-r requirements.txt (line 9)) (1.35.0)\n",
            "Requirement already satisfied: protobuf>=3.6.0 in /usr/local/lib/python3.7/dist-packages (from tensorboard>=1.14->-r requirements.txt (line 9)) (3.17.3)\n",
            "Requirement already satisfied: markdown>=2.6.8 in /usr/local/lib/python3.7/dist-packages (from tensorboard>=1.14->-r requirements.txt (line 9)) (3.3.6)\n",
            "Requirement already satisfied: grpcio>=1.24.3 in /usr/local/lib/python3.7/dist-packages (from tensorboard>=1.14->-r requirements.txt (line 9)) (1.42.0)\n",
            "Requirement already satisfied: requests<3,>=2.21.0 in /usr/local/lib/python3.7/dist-packages (from tensorboard>=1.14->-r requirements.txt (line 9)) (2.23.0)\n",
            "Requirement already satisfied: werkzeug>=0.11.15 in /usr/local/lib/python3.7/dist-packages (from tensorboard>=1.14->-r requirements.txt (line 9)) (1.0.1)\n",
            "Requirement already satisfied: absl-py>=0.4 in /usr/local/lib/python3.7/dist-packages (from tensorboard>=1.14->-r requirements.txt (line 9)) (0.12.0)\n",
            "Requirement already satisfied: tensorboard-data-server<0.7.0,>=0.6.0 in /usr/local/lib/python3.7/dist-packages (from tensorboard>=1.14->-r requirements.txt (line 9)) (0.6.1)\n",
            "Requirement already satisfied: six in /usr/local/lib/python3.7/dist-packages (from absl-py>=0.4->tensorboard>=1.14->-r requirements.txt (line 9)) (1.15.0)\n",
            "Requirement already satisfied: rsa<5,>=3.1.4 in /usr/local/lib/python3.7/dist-packages (from google-auth<3,>=1.6.3->tensorboard>=1.14->-r requirements.txt (line 9)) (4.7.2)\n",
            "Requirement already satisfied: pyasn1-modules>=0.2.1 in /usr/local/lib/python3.7/dist-packages (from google-auth<3,>=1.6.3->tensorboard>=1.14->-r requirements.txt (line 9)) (0.2.8)\n",
            "Requirement already satisfied: cachetools<5.0,>=2.0.0 in /usr/local/lib/python3.7/dist-packages (from google-auth<3,>=1.6.3->tensorboard>=1.14->-r requirements.txt (line 9)) (4.2.4)\n",
            "Requirement already satisfied: requests-oauthlib>=0.7.0 in /usr/local/lib/python3.7/dist-packages (from google-auth-oauthlib<0.5,>=0.4.1->tensorboard>=1.14->-r requirements.txt (line 9)) (1.3.0)\n",
            "Requirement already satisfied: importlib-metadata>=4.4 in /usr/local/lib/python3.7/dist-packages (from markdown>=2.6.8->tensorboard>=1.14->-r requirements.txt (line 9)) (4.8.2)\n",
            "Requirement already satisfied: typing-extensions>=3.6.4 in /usr/local/lib/python3.7/dist-packages (from importlib-metadata>=4.4->markdown>=2.6.8->tensorboard>=1.14->-r requirements.txt (line 9)) (3.10.0.2)\n",
            "Requirement already satisfied: zipp>=0.5 in /usr/local/lib/python3.7/dist-packages (from importlib-metadata>=4.4->markdown>=2.6.8->tensorboard>=1.14->-r requirements.txt (line 9)) (3.6.0)\n",
            "Requirement already satisfied: pyasn1<0.5.0,>=0.4.6 in /usr/local/lib/python3.7/dist-packages (from pyasn1-modules>=0.2.1->google-auth<3,>=1.6.3->tensorboard>=1.14->-r requirements.txt (line 9)) (0.4.8)\n",
            "Requirement already satisfied: idna<3,>=2.5 in /usr/local/lib/python3.7/dist-packages (from requests<3,>=2.21.0->tensorboard>=1.14->-r requirements.txt (line 9)) (2.10)\n",
            "Requirement already satisfied: urllib3!=1.25.0,!=1.25.1,<1.26,>=1.21.1 in /usr/local/lib/python3.7/dist-packages (from requests<3,>=2.21.0->tensorboard>=1.14->-r requirements.txt (line 9)) (1.24.3)\n",
            "Requirement already satisfied: certifi>=2017.4.17 in /usr/local/lib/python3.7/dist-packages (from requests<3,>=2.21.0->tensorboard>=1.14->-r requirements.txt (line 9)) (2021.10.8)\n",
            "Requirement already satisfied: chardet<4,>=3.0.2 in /usr/local/lib/python3.7/dist-packages (from requests<3,>=2.21.0->tensorboard>=1.14->-r requirements.txt (line 9)) (3.0.4)\n",
            "Requirement already satisfied: oauthlib>=3.0.0 in /usr/local/lib/python3.7/dist-packages (from requests-oauthlib>=0.7.0->google-auth-oauthlib<0.5,>=0.4.1->tensorboard>=1.14->-r requirements.txt (line 9)) (3.1.1)\n",
            "Requirement already satisfied: cycler>=0.10 in /usr/local/lib/python3.7/dist-packages (from matplotlib->-r requirements.txt (line 5)) (0.11.0)\n",
            "Requirement already satisfied: pyparsing!=2.0.4,!=2.1.2,!=2.1.6,>=2.0.1 in /usr/local/lib/python3.7/dist-packages (from matplotlib->-r requirements.txt (line 5)) (3.0.6)\n",
            "Requirement already satisfied: kiwisolver>=1.0.1 in /usr/local/lib/python3.7/dist-packages (from matplotlib->-r requirements.txt (line 5)) (1.3.2)\n",
            "Requirement already satisfied: python-dateutil>=2.1 in /usr/local/lib/python3.7/dist-packages (from matplotlib->-r requirements.txt (line 5)) (2.8.2)\n",
            "Requirement already satisfied: cython>=0.27.3 in /usr/local/lib/python3.7/dist-packages (from pycocotools->-r requirements.txt (line 6)) (0.29.24)\n",
            "Requirement already satisfied: PyYAML in /usr/local/lib/python3.7/dist-packages (6.0)\n",
            "Collecting git+https://github.com/JunnYu/mish-cuda.git\n",
            "  Cloning https://github.com/JunnYu/mish-cuda.git to /tmp/pip-req-build-uy_dmta5\n",
            "  Running command git clone -q https://github.com/JunnYu/mish-cuda.git /tmp/pip-req-build-uy_dmta5\n",
            "Requirement already satisfied: torch>=1.2 in /usr/local/lib/python3.7/dist-packages (from mish-cuda==0.0.3) (1.10.0+cu111)\n",
            "Requirement already satisfied: typing-extensions in /usr/local/lib/python3.7/dist-packages (from torch>=1.2->mish-cuda==0.0.3) (3.10.0.2)\n",
            "Requirement already satisfied: googledrivedownloader in /usr/local/lib/python3.7/dist-packages (0.4)\n"
          ]
        }
      ]
    },
    {
      "cell_type": "code",
      "metadata": {
        "id": "N4M1nNaTRgQm",
        "colab": {
          "base_uri": "https://localhost:8080/"
        },
        "outputId": "fd4e937c-1584-4060-ced9-d65b97e22ae6"
      },
      "source": [
        "# Import your package and check the version\n",
        "\n",
        "import torch, torchvision\n",
        "print(torch.cuda.is_available())\n",
        "\n",
        "# You must import the below 5 packages \n",
        "\n",
        "import os\n",
        "import cv2\n",
        "import time\n",
        "from tqdm import tqdm\n",
        "from google_drive_downloader import GoogleDriveDownloader as gdd"
      ],
      "execution_count": 5,
      "outputs": [
        {
          "output_type": "stream",
          "name": "stdout",
          "text": [
            "True\n"
          ]
        }
      ]
    },
    {
      "cell_type": "markdown",
      "metadata": {
        "id": "EXA_BqhN9u7S"
      },
      "source": [
        "# STEP 3: Wget testing data "
      ]
    },
    {
      "cell_type": "code",
      "metadata": {
        "colab": {
          "base_uri": "https://localhost:8080/"
        },
        "id": "k4XFB1LpluSV",
        "outputId": "98d01dd9-2765-4bd1-edb8-4132d3ceaf4d"
      },
      "source": [
        "# 1. Download the testing data\n",
        "\n",
        "gdd.download_file_from_google_drive(file_id='1Fm-avdeNgzhPxhvia0iw9yZzcoOggy7I',\n",
        "                                    dest_path='./data/hw2/test.zip',\n",
        "                                    unzip=True)\n",
        "\n",
        "# 2. Read the image_name and put them into the list\n",
        "# You need to modify the path to fit your test_folder\n",
        "data_listdir = os.listdir(\"/content/2021VRDL_HW2\")"
      ],
      "execution_count": 6,
      "outputs": [
        {
          "output_type": "stream",
          "name": "stdout",
          "text": [
            "Downloading 1Fm-avdeNgzhPxhvia0iw9yZzcoOggy7I into ./data/hw2/test.zip... Done.\n",
            "Unzipping...Done.\n"
          ]
        }
      ]
    },
    {
      "cell_type": "code",
      "metadata": {
        "id": "2cTYlNjfwUE3",
        "colab": {
          "base_uri": "https://localhost:8080/"
        },
        "outputId": "778e1dfc-0cdc-477e-f5be-54f1c9270efc"
      },
      "source": [
        "# Download test.txt and weight.pt\n",
        "\n",
        "gdd.download_file_from_google_drive(file_id='1eZ13Fek1ioRqFsXWAbA9lh0qyKlKy8SI',\n",
        "                                    dest_path='./data/hw2//test/test.txt',\n",
        "                                    unzip=False)\n",
        "gdd.download_file_from_google_drive(file_id='1dZdWxhHfwOKiUvjTGz1nA1JIVhhIULB6',\n",
        "                                    dest_path='./data/hw2/weight.pt',\n",
        "                                    unzip=False)\n"
      ],
      "execution_count": 7,
      "outputs": [
        {
          "output_type": "stream",
          "name": "stdout",
          "text": [
            "Downloading 1eZ13Fek1ioRqFsXWAbA9lh0qyKlKy8SI into ./data/hw2//test/test.txt... Done.\n",
            "Downloading 1dZdWxhHfwOKiUvjTGz1nA1JIVhhIULB6 into ./data/hw2/weight.pt... Done.\n"
          ]
        }
      ]
    },
    {
      "cell_type": "code",
      "metadata": {
        "colab": {
          "base_uri": "https://localhost:8080/"
        },
        "id": "n_sRz9ihn5fo",
        "outputId": "4c11bda9-d5d8-47c1-887d-da402bf45a50"
      },
      "source": [
        "# After uploading test.txt and weight.pt, check whether the file exists\n",
        "\n",
        "print(os.path.isfile(\"/content/2021VRDL_HW2/data/hw2/test/test.txt\"))\n",
        "print(os.path.isfile(\"/content/2021VRDL_HW2/data/hw2/weight.pt\"))\n"
      ],
      "execution_count": 8,
      "outputs": [
        {
          "output_type": "stream",
          "name": "stdout",
          "text": [
            "True\n",
            "True\n"
          ]
        }
      ]
    },
    {
      "cell_type": "markdown",
      "metadata": {
        "id": "Ba1gPW5PGGjA"
      },
      "source": [
        "# STEP 4: Run inferene and bench mark"
      ]
    },
    {
      "cell_type": "code",
      "metadata": {
        "id": "BTs4phq2W8zG",
        "colab": {
          "base_uri": "https://localhost:8080/"
        },
        "outputId": "3a8e848f-cdc8-468e-90f1-d9c700b2528b"
      },
      "source": [
        "root = '/content/2021VRDL_HW2'\n",
        "os.chdir(root)\n",
        "os.listdir(root)\n",
        "\n",
        "!python testing.py --img 640 --conf 0.05 --batch 32 --device 0 --data data/SVHN_hw2.yaml --cfg cfg/SVHN_hw2.cfg --weights data/hw2/weight.pt --iou-thres 0.4  --task test --names data/SVHN_hw2.names --save-json\n"
      ],
      "execution_count": 10,
      "outputs": [
        {
          "output_type": "stream",
          "name": "stdout",
          "text": [
            "Namespace(augment=False, batch_size=32, cfg='cfg/SVHN_hw2.cfg', conf_thres=0.05, data='data/SVHN_hw2.yaml', device='0', img_size=640, iou_thres=0.4, merge=False, names='data/SVHN_hw2.names', save_json=True, save_txt=False, single_cls=False, task='test', verbose=False, weights=['data/hw2/weight.pt'])\n",
            "Using CUDA device0 _CudaDeviceProperties(name='Tesla K80', total_memory=11441MB)\n",
            "\n",
            "WARNING: smart bias initialization failure.\n",
            "WARNING: smart bias initialization failure.\n",
            "WARNING: smart bias initialization failure.\n",
            "Model Summary: 408 layers, 9.928e+07 parameters, 9.928e+07 gradients\n",
            "/usr/local/lib/python3.7/dist-packages/torch/functional.py:445: UserWarning: torch.meshgrid: in an upcoming release, it will be required to pass the indexing argument. (Triggered internally at  ../aten/src/ATen/native/TensorShape.cpp:2157.)\n",
            "  return _VF.meshgrid(tensors, **kwargs)  # type: ignore[attr-defined]\n",
            "Scanning images: 100% 13068/13068 [00:02<00:00, 5063.50it/s]\n",
            "Scanning labels data/hw2/test.cache (0 found, 0 missing, 13068 empty, 0 duplicate, for 13068 images): 100% 13068/13068 [00:00<00:00, 490682.20it/s]\n",
            "WARNING: No labels found in data/hw2/test/. See \n",
            "               Class      Images     Targets           P           R      mAP@.5  mAP@.5:.95: 100% 409/409 [16:19<00:00,  2.40s/it]\n",
            "\n",
            "Inference time per image:  0.07498252174706134\n"
          ]
        }
      ]
    },
    {
      "cell_type": "code",
      "metadata": {
        "id": "OSGR-g_N7z-W"
      },
      "source": [
        ""
      ],
      "execution_count": null,
      "outputs": []
    }
  ]
}